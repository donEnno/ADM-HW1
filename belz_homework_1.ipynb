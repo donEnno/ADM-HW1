{
 "cells": [
  {
   "cell_type": "markdown",
   "id": "761d4b0c",
   "metadata": {},
   "source": [
    "## Homework 1, Enno Belz, 2057189"
   ]
  },
  {
   "cell_type": "markdown",
   "id": "a431ee36",
   "metadata": {},
   "source": [
    "### Problem 1"
   ]
  },
  {
   "cell_type": "markdown",
   "id": "fc90017d",
   "metadata": {},
   "source": [
    "### Introduction"
   ]
  },
  {
   "cell_type": "markdown",
   "id": "9ae03295",
   "metadata": {},
   "source": [
    "#### Say \"Hello, World!\" With Python"
   ]
  },
  {
   "cell_type": "code",
   "execution_count": null,
   "id": "d99ebc42",
   "metadata": {},
   "outputs": [],
   "source": [
    "if __name__ == '__main__':\n",
    "    print(\"Hello, World!\")\n"
   ]
  },
  {
   "cell_type": "markdown",
   "id": "2b76a79f",
   "metadata": {},
   "source": [
    "#### Python If-Else"
   ]
  },
  {
   "cell_type": "code",
   "execution_count": null,
   "id": "b3734e60",
   "metadata": {},
   "outputs": [],
   "source": [
    "#!/bin/python3\n",
    "\n",
    "import math\n",
    "import os\n",
    "import random\n",
    "import re\n",
    "import sys\n",
    "\n",
    "\n",
    "\n",
    "if __name__ == '__main__':\n",
    "    n = int(input().strip())\n",
    "    if n % 2 == 0:\n",
    "        if n in range(2, 6):\n",
    "            print(\"Not Weird\")\n",
    "        elif n in range(6, 21):\n",
    "            print(\"Weird\")\n",
    "        elif n > 20:\n",
    "            print(\"Not Weird\")\n",
    "    else:\n",
    "        print(\"Weird\")\n",
    "            \n"
   ]
  },
  {
   "cell_type": "markdown",
   "id": "215748f9",
   "metadata": {},
   "source": [
    "#### Arithmetic Operators"
   ]
  },
  {
   "cell_type": "code",
   "execution_count": null,
   "id": "7ce8fd03",
   "metadata": {},
   "outputs": [],
   "source": [
    "if __name__ == '__main__':\n",
    "    a = int(input())\n",
    "    b = int(input())\n",
    "    \n",
    "    print(a+b)\n",
    "    print(a-b)\n",
    "    print(a*b)\n"
   ]
  },
  {
   "cell_type": "markdown",
   "id": "94e39699",
   "metadata": {},
   "source": [
    "#### Python Division"
   ]
  },
  {
   "cell_type": "code",
   "execution_count": null,
   "id": "6d26cd15",
   "metadata": {},
   "outputs": [],
   "source": [
    "if __name__ == '__main__':\n",
    "    a = int(input())\n",
    "    b = int(input())\n",
    "    \n",
    "    print(int(a/b))\n",
    "    print(a/b)\n"
   ]
  },
  {
   "cell_type": "markdown",
   "id": "fe517628",
   "metadata": {},
   "source": [
    "#### Loops"
   ]
  },
  {
   "cell_type": "code",
   "execution_count": null,
   "id": "8dfc58d6",
   "metadata": {},
   "outputs": [],
   "source": [
    "if __name__ == '__main__':\n",
    "    n = int(input())\n",
    "    \n",
    "    for i in range(n):\n",
    "        print(i**2)\n"
   ]
  },
  {
   "cell_type": "markdown",
   "id": "b84a1bd0",
   "metadata": {},
   "source": [
    "#### Write a function"
   ]
  },
  {
   "cell_type": "code",
   "execution_count": null,
   "id": "d05f8361",
   "metadata": {},
   "outputs": [],
   "source": [
    "def is_leap(year):\n",
    "    leap = False\n",
    "    \n",
    "    if (year/4) % 1 == 0:\n",
    "        leap = True\n",
    "        if (year/100) % 1 == 0:\n",
    "            leap = False\n",
    "            if (year/400) % 1 == 0:\n",
    "                leap = True\n",
    "    else:\n",
    "        leap = False\n",
    "            \n",
    "    \n",
    "    return leap\n",
    "\n",
    "year = int(input())\n",
    "print(is_leap(year))"
   ]
  },
  {
   "cell_type": "markdown",
   "id": "8fd1bd6b",
   "metadata": {},
   "source": [
    "#### Print Function"
   ]
  },
  {
   "cell_type": "code",
   "execution_count": null,
   "id": "b383fbdc",
   "metadata": {},
   "outputs": [],
   "source": [
    "if __name__ == '__main__':\n",
    "    n = int(input())\n",
    "    out = ''\n",
    "    \n",
    "    for i in range(1, n+1):\n",
    "        out += f'{i}'\n",
    "    \n",
    "    print(out)\n"
   ]
  },
  {
   "cell_type": "markdown",
   "id": "8c00a726",
   "metadata": {},
   "source": [
    "### Basic Data Types"
   ]
  },
  {
   "cell_type": "markdown",
   "id": "21b20f2d",
   "metadata": {},
   "source": [
    "#### List Comprehension"
   ]
  },
  {
   "cell_type": "code",
   "execution_count": null,
   "id": "920f626c",
   "metadata": {},
   "outputs": [],
   "source": [
    "if __name__ == '__main__':\n",
    "    x = int(input())\n",
    "    y = int(input())\n",
    "    z = int(input())\n",
    "    n = int(input())\n",
    "    \n",
    "    print([[i, j, k] for i in range(x+1) for j in range(y+1) for k in range(z+1) if (i+j+k) != n])if __name__ == '__main__':"
   ]
  },
  {
   "cell_type": "markdown",
   "id": "d5c34a47",
   "metadata": {},
   "source": [
    "#### Find the Runner-Up Score!"
   ]
  },
  {
   "cell_type": "code",
   "execution_count": null,
   "id": "a7e98f0e",
   "metadata": {},
   "outputs": [],
   "source": [
    "if __name__ == '__main__':\n",
    "    n = int(input())\n",
    "    arr = list(map(int, input().split()))\n",
    "    \n",
    "    highscore = max(arr)\n",
    "    \n",
    "    runner_up = -1000\n",
    "    \n",
    "    for i in arr:\n",
    "        if i > runner_up and i != highscore:\n",
    "            runner_up = i\n",
    "        else:\n",
    "            continue\n",
    "    \n",
    "    print(runner_up)\n"
   ]
  },
  {
   "cell_type": "markdown",
   "id": "e040f580",
   "metadata": {},
   "source": [
    "#### Nested Lists"
   ]
  },
  {
   "cell_type": "code",
   "execution_count": null,
   "id": "b5fd741f",
   "metadata": {},
   "outputs": [],
   "source": [
    "if __name__ == '__main__':\n",
    "    list_of_students  = []\n",
    "    for _ in range(int(input())):\n",
    "        name = input()\n",
    "        score = float(input())\n",
    "    \n",
    "        list_of_students.append([name, score])\n",
    "    \n",
    "    second_lowest = sorted(set([grade for name, grade in list_of_students]))[1]\n",
    "    lowest_grade_students = sorted([name for name, grade in list_of_students if grade == second_lowest])\n",
    "\n",
    "    for student in lowest_grade_students:\n",
    "        print(student)\n",
    "    "
   ]
  },
  {
   "cell_type": "markdown",
   "id": "6b1ac82f",
   "metadata": {},
   "source": [
    "#### Finding the percentage"
   ]
  },
  {
   "cell_type": "code",
   "execution_count": null,
   "id": "e0084898",
   "metadata": {},
   "outputs": [],
   "source": [
    "if __name__ == '__main__':\n",
    "    n = int(input())\n",
    "    student_marks = {}\n",
    "    for _ in range(n):\n",
    "        name, *line = input().split()\n",
    "        scores = list(map(float, line))\n",
    "        student_marks[name] = scores\n",
    "    query_name = input()\n",
    "    \n",
    "    current_grades = student_marks[query_name]\n",
    "    avg_grade = sum(current_grades) / len(current_grades)\n",
    "    \n",
    "    print(f\"{avg_grade:.2f}\")\n"
   ]
  },
  {
   "cell_type": "markdown",
   "id": "594f4104",
   "metadata": {},
   "source": [
    "#### Lists"
   ]
  },
  {
   "cell_type": "code",
   "execution_count": null,
   "id": "0481f07e",
   "metadata": {},
   "outputs": [],
   "source": [
    "if __name__ == '__main__':\n",
    "    N = int(input())\n",
    "    \n",
    "    arr = []\n",
    "    for i in range(N):\n",
    "        statement = input().split()\n",
    "        \n",
    "        if statement[0] == 'insert':\n",
    "            arr.insert(int(statement[1]), int(statement[2]))\n",
    "        elif statement[0] == 'print':\n",
    "            print(arr)\n",
    "        elif statement[0] == 'remove':\n",
    "            arr.remove(int(statement[1]))\n",
    "        elif statement[0] == 'append':\n",
    "            arr.append(int(statement[1]))\n",
    "        elif statement[0] == 'sort':\n",
    "            arr.sort()\n",
    "        elif statement[0] == 'pop':\n",
    "            arr.pop()\n",
    "        elif statement[0] == 'reverse':\n",
    "            arr.reverse()\n"
   ]
  },
  {
   "cell_type": "markdown",
   "id": "a336573c",
   "metadata": {},
   "source": [
    "#### Tuples"
   ]
  },
  {
   "cell_type": "code",
   "execution_count": null,
   "id": "3267ea54",
   "metadata": {},
   "outputs": [],
   "source": [
    "if __name__ == '__main__':\n",
    "    n = int(input())\n",
    "    integer_list = map(int, input().split())\n",
    "    \n",
    "    print(hash(tuple(integer_list)))\n"
   ]
  },
  {
   "cell_type": "markdown",
   "id": "e537e40d",
   "metadata": {},
   "source": [
    "### Strings"
   ]
  },
  {
   "cell_type": "markdown",
   "id": "a42989e0",
   "metadata": {},
   "source": [
    "#### sWAP cASE"
   ]
  },
  {
   "cell_type": "code",
   "execution_count": null,
   "id": "3fdc4929",
   "metadata": {},
   "outputs": [],
   "source": [
    "def swap_case(s):\n",
    "    return s.swapcase()\n",
    "\n",
    "if __name__ == '__main__':\n",
    "    s = input()\n",
    "    result = swap_case(s)\n",
    "    print(result)"
   ]
  },
  {
   "cell_type": "markdown",
   "id": "355b9c15",
   "metadata": {},
   "source": [
    "#### String Split and Join"
   ]
  },
  {
   "cell_type": "code",
   "execution_count": null,
   "id": "16bc20bc",
   "metadata": {},
   "outputs": [],
   "source": [
    "def split_and_join(line):\n",
    "    return '-'.join(line.split())\n",
    "\n",
    "if __name__ == '__main__':\n",
    "    line = input()\n",
    "    result = split_and_join(line)\n",
    "    print(result)\n"
   ]
  },
  {
   "cell_type": "markdown",
   "id": "2f7d7c91",
   "metadata": {},
   "source": [
    "#### What's your Name?"
   ]
  },
  {
   "cell_type": "code",
   "execution_count": null,
   "id": "71e33bec",
   "metadata": {},
   "outputs": [],
   "source": [
    "def print_full_name(first, last):\n",
    "    print(f'Hello {first} {last}! You just delved into python.')\n",
    "\n",
    "if __name__ == '__main__':\n",
    "    first_name = input()\n",
    "    last_name = input()\n"
   ]
  },
  {
   "cell_type": "markdown",
   "id": "8508090a",
   "metadata": {},
   "source": [
    "#### Mutations"
   ]
  },
  {
   "cell_type": "code",
   "execution_count": null,
   "id": "709396d5",
   "metadata": {},
   "outputs": [],
   "source": [
    "def mutate_string(string, position, character):\n",
    "    l = list(s)\n",
    "    l[position] = character\n",
    "    return ''.join(l)\n",
    "\n",
    "if __name__ == '__main__':\n",
    "    s = input()\n",
    "    i, c = input().split()\n",
    "    s_new = mutate_string(s, int(i), c)\n",
    "    print(s_new)"
   ]
  },
  {
   "cell_type": "markdown",
   "id": "caad2715",
   "metadata": {},
   "source": [
    "#### Find a string"
   ]
  },
  {
   "cell_type": "code",
   "execution_count": null,
   "id": "9d10d16e",
   "metadata": {},
   "outputs": [],
   "source": [
    "def count_substring(string, sub_string):\n",
    "    count = 0\n",
    "    n = len(string)\n",
    "    m = len(sub_string)\n",
    "    for i in range(n - m + 1):\n",
    "        if string[i:i+m] == sub_string:\n",
    "            count += 1\n",
    "        \n",
    "    return count\n",
    "\n",
    "if __name__ == '__main__':\n",
    "    string = input().strip()\n",
    "    sub_string = input().strip()\n",
    "    \n",
    "    count = count_substring(string, sub_string)\n",
    "    print(count)"
   ]
  },
  {
   "cell_type": "markdown",
   "id": "765dbe7c",
   "metadata": {},
   "source": [
    "#### String Validators"
   ]
  },
  {
   "cell_type": "code",
   "execution_count": null,
   "id": "84d85518",
   "metadata": {},
   "outputs": [],
   "source": [
    "if __name__ == '__main__':\n",
    "    s = input()\n",
    "    \n",
    "    print(True if True in [True for i in s if i.isalnum()] else False)\n",
    "    print(True if True in [True for i in s if i.isalpha()] else False)\n",
    "    print(True if True in [True for i in s if i.isdigit()] else False)\n",
    "    print(True if True in [True for i in s if i.islower()] else False)\n",
    "    print(True if True in [True for i in s if i.isupper()] else False)\n",
    "    \n"
   ]
  },
  {
   "cell_type": "markdown",
   "id": "d427de4e",
   "metadata": {},
   "source": [
    "#### Text Alignment"
   ]
  },
  {
   "cell_type": "code",
   "execution_count": null,
   "id": "a2cc9255",
   "metadata": {},
   "outputs": [],
   "source": [
    "thickness = int(input()) #This must be an odd number\n",
    "c = 'H'\n",
    "\n",
    "#Top Cone\n",
    "for i in range(thickness):\n",
    "    print((c*i).rjust(thickness-1)+c+(c*i).ljust(thickness-1))\n",
    "\n",
    "#Top Pillars\n",
    "for i in range(thickness+1):\n",
    "    print((c*thickness).center(thickness*2)+(c*thickness).center(thickness*6))\n",
    "\n",
    "#Middle Belt\n",
    "for i in range((thickness+1)//2):\n",
    "    print((c*thickness*5).center(thickness*6))    \n",
    "\n",
    "#Bottom Pillars\n",
    "for i in range(thickness+1):\n",
    "    print((c*thickness).center(thickness*2)+(c*thickness).center(thickness*6))    \n",
    "\n",
    "#Bottom Cone\n",
    "for i in range(thickness):\n",
    "    print(((c*(thickness-i-1)).rjust(thickness)+c+(c*(thickness-i-1)).ljust(thickness)).rjust(thickness*6))\n"
   ]
  },
  {
   "cell_type": "markdown",
   "id": "4a24384a",
   "metadata": {},
   "source": [
    "#### Text Wrap"
   ]
  },
  {
   "cell_type": "code",
   "execution_count": null,
   "id": "6eefa71d",
   "metadata": {},
   "outputs": [],
   "source": [
    "import textwrap\n",
    "\n",
    "def wrap(string, max_width):\n",
    "    n = len(string)\n",
    "    l = []\n",
    "    for i in range(n):\n",
    "        if i % max_width == 0:\n",
    "            l.append(string[i:i+max_width])\n",
    "    \n",
    "    string = '\\n'.join(l)\n",
    "    \n",
    "    return string\n",
    "\n",
    "if __name__ == '__main__':\n",
    "    string, max_width = input(), int(input())\n",
    "    result = wrap(string, max_width)\n",
    "    print(result)"
   ]
  },
  {
   "cell_type": "markdown",
   "id": "222f0818",
   "metadata": {},
   "source": [
    "#### Designer Door Mat"
   ]
  },
  {
   "cell_type": "code",
   "execution_count": null,
   "id": "a752c4f7",
   "metadata": {},
   "outputs": [],
   "source": [
    "nm = input().split()\n",
    "n = int(nm[0])\n",
    "center_n = int(n/2) + 1\n",
    "\n",
    "m = int(nm[1])\n",
    "\n",
    "pattern = '.|.'\n",
    "\n",
    "j = 1\n",
    "for i in range(1, n+1):\n",
    "    if i < center_n:\n",
    "        print((j * pattern).center(m, '-'))\n",
    "        j += 2\n",
    "    elif i == center_n:\n",
    "        print('WELCOME'.center(m, '-'))\n",
    "        j -= 2\n",
    "    elif i > center_n:\n",
    "        print((j * pattern).center(m, '-'))\n",
    "        j -= 2\n"
   ]
  },
  {
   "cell_type": "markdown",
   "id": "db5b7422",
   "metadata": {},
   "source": [
    "#### String Formatting"
   ]
  },
  {
   "cell_type": "code",
   "execution_count": null,
   "id": "f6bc0710",
   "metadata": {},
   "outputs": [],
   "source": [
    "def print_formatted(number):\n",
    "    width = len(bin(number)[2:])\n",
    "    s = ''\n",
    "    for i in range(1, int(number)+1):\n",
    "        d = str(i).rjust(width, ' ') + ' '\n",
    "        o = oct(i)[2:].rjust(width, ' ') + ' '\n",
    "        h = hex(i)[2:].rjust(width, ' ').swapcase() + ' '\n",
    "        b = bin(i)[2:].rjust(width, ' ') + '\\n'\n",
    "        \n",
    "        s += d + o + h + b\n",
    "    print(s[:-1])\n",
    "        \n",
    "\n",
    "if __name__ == '__main__':\n",
    "    n = int(input())\n",
    "    print_formatted(n)"
   ]
  },
  {
   "cell_type": "markdown",
   "id": "8faf1a2e",
   "metadata": {},
   "source": [
    "#### Alphabet Rangoli"
   ]
  },
  {
   "cell_type": "code",
   "execution_count": null,
   "id": "214f0665",
   "metadata": {},
   "outputs": [],
   "source": [
    "def print_rangoli(size):\n",
    "    out = ''\n",
    "    abc = 'abcdefghijklmnopqrstuvwxyz'\n",
    "    w = 2*size + (size-1)*2 - 1\n",
    "    \n",
    "    for i in reversed(range(size)):\n",
    "        letters = list(abc[i:size])\n",
    "        bwd_pattern = '-'.join(letters)\n",
    "        fwd_pattern = '-'.join(reversed(letters))[:-1]\n",
    "        pattern = fwd_pattern + bwd_pattern\n",
    "        out += pattern.center(w, '-') + '\\n'\n",
    "    \n",
    "    for i in range(1, size):\n",
    "        letters = list(abc[i:size])\n",
    "        bwd_pattern = '-'.join(letters)\n",
    "        fwd_pattern = '-'.join(reversed(letters))[:-1]\n",
    "        pattern = fwd_pattern + bwd_pattern\n",
    "        out += pattern.center(w, '-') + '\\n'\n",
    "    \n",
    "    print(out)\n",
    "\n",
    "if __name__ == '__main__':\n",
    "    n = int(input())\n",
    "    print_rangoli(n)"
   ]
  },
  {
   "cell_type": "markdown",
   "id": "790bd8b4",
   "metadata": {},
   "source": [
    "#### Capitalize!"
   ]
  },
  {
   "cell_type": "code",
   "execution_count": null,
   "id": "0715280a",
   "metadata": {},
   "outputs": [],
   "source": [
    "#!/bin/python3\n",
    "\n",
    "import math\n",
    "import os\n",
    "import random\n",
    "import re\n",
    "import sys\n",
    "\n",
    "def solve(s):\n",
    "    s = [w.capitalize() for w in s.split(\" \")]\n",
    "    out = ' '.join(s)\n",
    "    return out\n",
    "    \n",
    "\n",
    "if __name__ == '__main__':\n",
    "    fptr = open(os.environ['OUTPUT_PATH'], 'w')\n",
    "\n",
    "    s = input()\n",
    "\n",
    "    result = solve(s)\n",
    "\n",
    "    fptr.write(result + '\\n')\n",
    "\n",
    "    fptr.close()\n"
   ]
  },
  {
   "cell_type": "markdown",
   "id": "11ee2503",
   "metadata": {},
   "source": [
    "#### The Minion Game"
   ]
  },
  {
   "cell_type": "code",
   "execution_count": null,
   "id": "7840c1ba",
   "metadata": {},
   "outputs": [],
   "source": [
    "def minion_game(string):\n",
    "    vowels = ['A', 'E', 'I', 'O', 'U']\n",
    "    \n",
    "    s_score = 0\n",
    "    k_score = 0\n",
    "    \n",
    "    n = len(string)\n",
    "    \n",
    "    for i in range(n):\n",
    "        if string[i:][0] in vowels:\n",
    "            k_score += len(string[i:])\n",
    "        else:\n",
    "            s_score += len(string[i:])\n",
    "\n",
    "    if s_score < k_score:\n",
    "        print(f'Kevin {k_score}')\n",
    "    elif s_score > k_score:\n",
    "        print(f'Stuart {s_score}')\n",
    "    else:\n",
    "        print('Draw')\n",
    "    \n",
    "if __name__ == '__main__':\n",
    "    s = input()\n",
    "    minion_game(s)"
   ]
  },
  {
   "cell_type": "markdown",
   "id": "fae5bbd2",
   "metadata": {},
   "source": [
    "#### Merge the Tools!"
   ]
  },
  {
   "cell_type": "code",
   "execution_count": null,
   "id": "4090af38",
   "metadata": {},
   "outputs": [],
   "source": [
    "def merge_the_tools(string, k):\n",
    "    [print(''.join(set(string[i:i+k]))) for i in range(0, len(string), k)]\n",
    "\n",
    "\n",
    "if __name__ == '__main__':\n",
    "    string, k = input(), int(input())\n",
    "    merge_the_tools(string, k)"
   ]
  },
  {
   "cell_type": "markdown",
   "id": "31ce62fd",
   "metadata": {},
   "source": [
    "### Sets"
   ]
  },
  {
   "cell_type": "markdown",
   "id": "f49ebcc6",
   "metadata": {},
   "source": [
    "#### Introduction to Sets"
   ]
  },
  {
   "cell_type": "code",
   "execution_count": null,
   "id": "b08209ce",
   "metadata": {},
   "outputs": [],
   "source": [
    "def average(array):\n",
    "    set_of_array = set(array)\n",
    "    return sum(set(set_of_array))/len(set(set_of_array))\n",
    "\n",
    "\n",
    "if __name__ == '__main__':\n",
    "    n = int(input())\n",
    "    arr = list(map(int, input().split()))\n",
    "    result = average(arr)\n",
    "    print(result)"
   ]
  },
  {
   "cell_type": "markdown",
   "id": "b24c3af9",
   "metadata": {},
   "source": [
    "#### No Idea!"
   ]
  },
  {
   "cell_type": "code",
   "execution_count": null,
   "id": "9e7a55f4",
   "metadata": {},
   "outputs": [],
   "source": [
    "n, m = map(int, input().split())\n",
    "arr = map(int, input().split())\n",
    "A = set(map(int, input().split()))\n",
    "B = set(map(int, input().split()))\n",
    "\n",
    "my_happines = 0\n",
    "for i in arr:\n",
    "    if i in A:\n",
    "        my_happines += 1\n",
    "    elif i in B:\n",
    "        my_happines -= 1\n",
    "\n",
    "print(my_happines)\n"
   ]
  },
  {
   "cell_type": "markdown",
   "id": "74b53bec",
   "metadata": {},
   "source": [
    "#### Symmetric Differnce"
   ]
  },
  {
   "cell_type": "code",
   "execution_count": null,
   "id": "cc8b365c",
   "metadata": {},
   "outputs": [],
   "source": [
    "m = int(input())\n",
    "m_arr = set(map(int, input().split()))\n",
    "n = int(input())\n",
    "n_arr = set(map(int, input().split()))\n",
    "\n",
    "symmetric_difference = sorted(m_arr.difference(n_arr).union(n_arr.difference(m_arr)))\n",
    "[print(x) for x in symmetric_difference]\n"
   ]
  },
  {
   "cell_type": "markdown",
   "id": "9413b476",
   "metadata": {},
   "source": [
    "#### Set .add()"
   ]
  },
  {
   "cell_type": "code",
   "execution_count": null,
   "id": "d9616648",
   "metadata": {},
   "outputs": [],
   "source": [
    "n = int(input())\n",
    "s = set()\n",
    "\n",
    "for _ in range(n):\n",
    "    s.add(input())\n",
    "    \n",
    "print(len(s))\n"
   ]
  },
  {
   "cell_type": "markdown",
   "id": "f56fc1bc",
   "metadata": {},
   "source": [
    "#### Set .discard(), .remove() & .pop()"
   ]
  },
  {
   "cell_type": "code",
   "execution_count": null,
   "id": "4e97eece",
   "metadata": {},
   "outputs": [],
   "source": [
    "n = int(input())\n",
    "s = set(map(int, input().split()))\n",
    "\n",
    "N = int(input())\n",
    "\n",
    "for _ in range(N):\n",
    "    command = input().split()\n",
    "    \n",
    "    if command[0] == 'pop':\n",
    "        s.pop()\n",
    "    elif command[0] == 'remove':\n",
    "        s.remove(int(command[1]))\n",
    "    elif command[0] == 'discard':\n",
    "        s.discard(int(command[1]))\n",
    "        \n",
    "print(sum(s))\n"
   ]
  },
  {
   "cell_type": "markdown",
   "id": "0c4c8bdf",
   "metadata": {},
   "source": [
    "#### Set .union() Operation"
   ]
  },
  {
   "cell_type": "code",
   "execution_count": null,
   "id": "7e451b0e",
   "metadata": {},
   "outputs": [],
   "source": [
    "n = int(input())\n",
    "english_students = set(map(int, input().split()))\n",
    "b = int(input())\n",
    "french_students = set(map(int, input().split()))\n",
    "\n",
    "print(len(english_students.union(french_students)))"
   ]
  },
  {
   "cell_type": "markdown",
   "id": "83f69287",
   "metadata": {},
   "source": [
    "#### Set .intersection() Operation"
   ]
  },
  {
   "cell_type": "code",
   "execution_count": null,
   "id": "182ddec0",
   "metadata": {},
   "outputs": [],
   "source": [
    "n = int(input())\n",
    "english_students = set(map(int, input().split()))\n",
    "b = int(input())\n",
    "french_students = set(map(int, input().split()))\n",
    "\n",
    "print(len(english_students.intersection(french_students)))"
   ]
  },
  {
   "cell_type": "markdown",
   "id": "847e4bfb",
   "metadata": {},
   "source": [
    "#### Set .difference() Operation"
   ]
  },
  {
   "cell_type": "code",
   "execution_count": null,
   "id": "854efc21",
   "metadata": {},
   "outputs": [],
   "source": [
    "n = int(input())\n",
    "english_students = set(map(int, input().split()))\n",
    "b = int(input())\n",
    "french_students = set(map(int, input().split()))\n",
    "\n",
    "print(len(english_students.difference(french_students)))"
   ]
  },
  {
   "cell_type": "markdown",
   "id": "7e591b9c",
   "metadata": {},
   "source": [
    "####  Set .symmetric_difference() Operation"
   ]
  },
  {
   "cell_type": "code",
   "execution_count": null,
   "id": "9cb051e0",
   "metadata": {},
   "outputs": [],
   "source": [
    "n = int(input())\n",
    "english_students = set(map(int, input().split()))\n",
    "b = int(input())\n",
    "french_students = set(map(int, input().split()))\n",
    "\n",
    "num_exclusive_english = len(english_students - french_students)\n",
    "num_exclusive_french = len(french_students - english_students)\n",
    "\n",
    "print(num_exclusive_english + num_exclusive_french)\n"
   ]
  },
  {
   "cell_type": "markdown",
   "id": "ffc95355",
   "metadata": {},
   "source": [
    "#### Set Mutations"
   ]
  },
  {
   "cell_type": "code",
   "execution_count": null,
   "id": "6f1ef25b",
   "metadata": {},
   "outputs": [],
   "source": [
    "num_a = int(input())\n",
    "A = set(map(int, input().split()))\n",
    "N = int(input())\n",
    "\n",
    "for _ in range(N):\n",
    "    command = input().split()[0]\n",
    "    B = set(map(int, input().split()))\n",
    "    \n",
    "    if command == \"intersection_update\":\n",
    "        A.intersection_update(B)    \n",
    "    elif command == \"update\":\n",
    "        A.update(B)\n",
    "    elif command == \"symmetric_difference_update\":\n",
    "        A.symmetric_difference_update(B)\n",
    "    elif command == \"difference_update\":\n",
    "        A.difference_update(B)\n",
    "\n",
    "print(sum(A))"
   ]
  },
  {
   "cell_type": "markdown",
   "id": "f274ddd0",
   "metadata": {},
   "source": [
    "#### The Captain's Room"
   ]
  },
  {
   "cell_type": "code",
   "execution_count": null,
   "id": "97e1fb86",
   "metadata": {},
   "outputs": [],
   "source": [
    "# solved this using dicts since sets were too slow\n",
    "K = int(input())\n",
    "room_numbers = list(map(int, input().split()))\n",
    "\n",
    "count_dict = {}     # use dict to count the rooms\n",
    "for room in room_numbers:\n",
    "    if room in count_dict:\n",
    "        count_dict[room] += 1\n",
    "    else:\n",
    "        count_dict[room] = 1\n",
    "\n",
    "for room, x in count_dict.items():\n",
    "    if x == 1:\n",
    "        print(room)"
   ]
  },
  {
   "cell_type": "markdown",
   "id": "605f7a6b",
   "metadata": {},
   "source": [
    "#### Check Subset"
   ]
  },
  {
   "cell_type": "code",
   "execution_count": null,
   "id": "0dfb786b",
   "metadata": {},
   "outputs": [],
   "source": [
    "T = int(input())\n",
    "\n",
    "for _ in range(T):\n",
    "    n = int(input())\n",
    "    A = set(map(int, input().split()))\n",
    "\n",
    "    m = int(input())\n",
    "    B = set(map(int, input().split()))\n",
    "    \n",
    "    print(B.intersection(A) == A)"
   ]
  },
  {
   "cell_type": "markdown",
   "id": "a8c71f31",
   "metadata": {},
   "source": [
    "#### Check Strict Superset"
   ]
  },
  {
   "cell_type": "code",
   "execution_count": null,
   "id": "f8603c7f",
   "metadata": {},
   "outputs": [],
   "source": [
    "A = set(map(int, input().split()))\n",
    "\n",
    "n = int(input())\n",
    "res = True\n",
    "\n",
    "for _ in range(n):\n",
    "    B = set(map(int, input().split()))\n",
    "    \n",
    "    if len(B.difference(A)) != 0:\n",
    "        res = False\n",
    "    if len(A.difference(B)) == 0:\n",
    "        res = False\n",
    "    \n",
    "print(res)"
   ]
  },
  {
   "cell_type": "markdown",
   "id": "10ebbe8e",
   "metadata": {},
   "source": [
    "### Collections"
   ]
  },
  {
   "cell_type": "markdown",
   "id": "053bc05d",
   "metadata": {},
   "source": [
    "#### collections.Counter()"
   ]
  },
  {
   "cell_type": "code",
   "execution_count": null,
   "id": "5b474cc4",
   "metadata": {},
   "outputs": [],
   "source": [
    "x = int(input())\n",
    "shoe_sizes = list(map(int, input().split()))\n",
    "n_customers = int(input())\n",
    "\n",
    "money = 0\n",
    "for _ in range(n_customers):\n",
    "    size, price = map(int, input().split())\n",
    "    if size in shoe_sizes:\n",
    "        money += price\n",
    "        shoe_sizes.remove(size)\n",
    "    else:\n",
    "        continue\n",
    "\n",
    "print(money)"
   ]
  },
  {
   "cell_type": "markdown",
   "id": "059e4ede",
   "metadata": {},
   "source": [
    "#### DefaultDict Tutorial"
   ]
  },
  {
   "cell_type": "code",
   "execution_count": null,
   "id": "2adefb2f",
   "metadata": {},
   "outputs": [],
   "source": [
    "from collections import defaultdict\n",
    "\n",
    "n, m = list(map(int, input().split()))\n",
    "a_dict = defaultdict(list)\n",
    "b_dict = defaultdict(list)\n",
    "\n",
    "for pos in range(1, n+1):\n",
    "    x = input()\n",
    "    \n",
    "    a_dict[x].append(str(pos))\n",
    "\n",
    "\n",
    "for word in range(m):\n",
    "    word = input()\n",
    "    \n",
    "    if a_dict[word]:\n",
    "        print(' '.join(a_dict[word]))\n",
    "    else: \n",
    "        print(-1)"
   ]
  },
  {
   "cell_type": "markdown",
   "id": "3cc560a4",
   "metadata": {},
   "source": [
    "#### Collections.namedtuple()"
   ]
  },
  {
   "cell_type": "code",
   "execution_count": null,
   "id": "2ad2821a",
   "metadata": {},
   "outputs": [],
   "source": [
    "from collections import namedtuple\n",
    "\n",
    "N, attributes = int(input()), input().split()\n",
    "Student = namedtuple('Student', attributes)\n",
    "students = []\n",
    "for n in range(N):\n",
    "    s1, s2, s3, s4 = input().split()\n",
    "    students.append(Student(s1, s2, s3, s4))\n",
    "\n",
    "print(f'{sum([int(s.MARKS) for s in students])/N:.2f}')"
   ]
  },
  {
   "cell_type": "markdown",
   "id": "8cdb6124",
   "metadata": {},
   "source": [
    "#### Collections.OrderedDict()"
   ]
  },
  {
   "cell_type": "code",
   "execution_count": null,
   "id": "80b0d5c7",
   "metadata": {},
   "outputs": [],
   "source": [
    "from collections import OrderedDict\n",
    "\n",
    "N = int(input())\n",
    "dic = OrderedDict()\n",
    "\n",
    "for n in range(N):\n",
    "    line = input().split()\n",
    "    name, price = ' '.join(line[:-1]), int(line[-1])\n",
    "    if name in dic:\n",
    "        dic[name] += price\n",
    "    else:\n",
    "        dic[name] = price\n",
    "\n",
    "for name, total_price in dic.items():\n",
    "        print(name, total_price)"
   ]
  },
  {
   "cell_type": "markdown",
   "id": "0b838dc7",
   "metadata": {},
   "source": [
    "#### Word Order"
   ]
  },
  {
   "cell_type": "code",
   "execution_count": null,
   "id": "10515d90",
   "metadata": {},
   "outputs": [],
   "source": [
    "from collections import OrderedDict\n",
    "\n",
    "dic = OrderedDict()\n",
    "n = int(input())\n",
    "\n",
    "for i in range(n):\n",
    "    word = input()\n",
    "    if word in dic:\n",
    "        dic[word] += 1\n",
    "    else:\n",
    "        dic[word] = 1\n",
    "\n",
    "print(len(dic), '\\n' + ' '.join(map(str, dic.values())))\n"
   ]
  },
  {
   "cell_type": "markdown",
   "id": "9476f11c",
   "metadata": {},
   "source": [
    "#### Collections.deque()"
   ]
  },
  {
   "cell_type": "code",
   "execution_count": null,
   "id": "b0adf10d",
   "metadata": {},
   "outputs": [],
   "source": [
    "from collections import deque\n",
    "n = int(input())\n",
    "\n",
    "d = deque()\n",
    "\n",
    "for i in range(n):\n",
    "    command = input().split(' ')\n",
    "    if command[0] == 'append':\n",
    "        d.append(int(command[1]))\n",
    "    elif command[0] == 'pop':\n",
    "        d.pop()\n",
    "    elif command[0] == 'popleft':\n",
    "        d.popleft()\n",
    "    elif command[0] == 'appendleft':\n",
    "        d.appendleft(int(command[1]))\n",
    "\n",
    "print(' '.join(map(str, d)))"
   ]
  },
  {
   "cell_type": "markdown",
   "id": "054e9492",
   "metadata": {},
   "source": [
    "#### Company Logo"
   ]
  },
  {
   "cell_type": "code",
   "execution_count": null,
   "id": "7e7121a6",
   "metadata": {},
   "outputs": [],
   "source": [
    "import math\n",
    "import os\n",
    "import random\n",
    "import re\n",
    "import sys\n",
    "from collections import Counter\n",
    "\n",
    "if __name__ == '__main__':\n",
    "    n = 3\n",
    "   \n",
    "    s = Counter(input()) # input()\n",
    "    sorted_top_n = sorted(sorted(s.items(), key=lambda x: x[0]), key=lambda x: x[1], reverse=True)\n",
    "\n",
    "    for letter, c in sorted_top_n[:n]:\n",
    "        print(letter, c)\n"
   ]
  },
  {
   "cell_type": "markdown",
   "id": "254b38c5",
   "metadata": {},
   "source": [
    "#### Piling Up!"
   ]
  },
  {
   "cell_type": "code",
   "execution_count": null,
   "id": "282c6bbd",
   "metadata": {},
   "outputs": [],
   "source": [
    "from collections import deque\n",
    "T = int(input())\n",
    "\n",
    "for _ in range(T):\n",
    "    stackable = 'Yes'\n",
    "    \n",
    "    n = int(input())\n",
    "    blocks = deque(map(int, input().split()))\n",
    "    previous_base = 2 ** 32\n",
    "    for i in range(n):\n",
    "        left_most = blocks[0]\n",
    "        right_most = blocks[-1]\n",
    "    \n",
    "        if left_most < right_most:\n",
    "            current_base = blocks.pop()\n",
    "            \n",
    "        else:\n",
    "            current_base = blocks.popleft()        \n",
    "        \n",
    "        if previous_base < current_base:\n",
    "            stackable = 'No'\n",
    "            break\n",
    "        \n",
    "        previous_base = current_base\n",
    "    \n",
    "    print(stackable)"
   ]
  },
  {
   "cell_type": "markdown",
   "id": "25784fa0",
   "metadata": {},
   "source": [
    "### Date and Time"
   ]
  },
  {
   "cell_type": "markdown",
   "id": "22190b5a",
   "metadata": {},
   "source": [
    "#### Calendar Module"
   ]
  },
  {
   "cell_type": "code",
   "execution_count": null,
   "id": "6435197c",
   "metadata": {},
   "outputs": [],
   "source": [
    "import calendar\n",
    "month, day, year = map(int, input().split())\n",
    "print(calendar.day_name[calendar.weekday(year, month, day)].upper())"
   ]
  },
  {
   "cell_type": "markdown",
   "id": "cfacb50f",
   "metadata": {},
   "source": [
    "#### Time Delta"
   ]
  },
  {
   "cell_type": "code",
   "execution_count": null,
   "id": "2e923c3f",
   "metadata": {},
   "outputs": [],
   "source": [
    "#!/bin/python3\n",
    "\n",
    "import math\n",
    "import os\n",
    "import random\n",
    "import re\n",
    "import sys\n",
    "import datetime\n",
    "\n",
    "\n",
    "def time_delta(t1, t2):\n",
    "    return str(int(abs((t1-t2)).total_seconds()))\n",
    "    \n",
    "\n",
    "if __name__ == '__main__':\n",
    "    fptr = open(os.environ['OUTPUT_PATH'], 'w')\n",
    "\n",
    "    t = int(input())\n",
    "\n",
    "    for t_itr in range(t):\n",
    "        # from https://www.programiz.com/python-programming/datetime/strptime\n",
    "        string_format = '%a %d %b %Y %H:%M:%S %z'\n",
    "        \n",
    "        t1 = datetime.datetime.strptime(input(), string_format)\n",
    "        t2 = datetime.datetime.strptime(input(), string_format)\n",
    "\n",
    "        delta = time_delta(t1, t2)\n",
    "\n",
    "        fptr.write(delta + '\\n')\n",
    "\n",
    "    fptr.close()"
   ]
  },
  {
   "cell_type": "markdown",
   "id": "785c2e0b",
   "metadata": {},
   "source": [
    "### Exceptions"
   ]
  },
  {
   "cell_type": "code",
   "execution_count": null,
   "id": "9285c29b",
   "metadata": {},
   "outputs": [],
   "source": [
    "T = int(input())\n",
    "for _ in range(T):\n",
    "    try:\n",
    "        a, b = map(int, input().split())\n",
    "        try:\n",
    "            print(int(a//b))\n",
    "        except ZeroDivisionError as e:\n",
    "            print(\"Error Code:\", e)\n",
    "    except ValueError as e:\n",
    "        print(\"Error Code:\", e)"
   ]
  },
  {
   "cell_type": "markdown",
   "id": "dc31d9bb",
   "metadata": {},
   "source": [
    "### Built-ins"
   ]
  },
  {
   "cell_type": "markdown",
   "id": "3e364a94",
   "metadata": {},
   "source": [
    "#### Zipped"
   ]
  },
  {
   "cell_type": "code",
   "execution_count": null,
   "id": "0fd462b4",
   "metadata": {},
   "outputs": [],
   "source": [
    "N, X = map(int, input().split())\n",
    "\n",
    "list_of_student_grades = []\n",
    "for _ in range(X):\n",
    "    list_of_student_grades.append(map(float, input().split()))\n",
    "\n",
    "subjects = list(zip(*list_of_student_grades))\n",
    "\n",
    "for subject in subjects:\n",
    "    result = sum(subject)/X\n",
    "    print(f\"{result:.1f}\")\n"
   ]
  },
  {
   "cell_type": "markdown",
   "id": "06e60e31",
   "metadata": {},
   "source": [
    "#### Athlete Sort"
   ]
  },
  {
   "cell_type": "code",
   "execution_count": null,
   "id": "a5a6badc",
   "metadata": {},
   "outputs": [],
   "source": [
    "import math\n",
    "import os\n",
    "import random\n",
    "import re\n",
    "import sys\n",
    "\n",
    "\n",
    "\n",
    "if __name__ == '__main__':\n",
    "    nm = input().split()\n",
    "\n",
    "    n = int(nm[0])\n",
    "\n",
    "    m = int(nm[1])\n",
    "\n",
    "    arr = []\n",
    "\n",
    "    for _ in range(n):\n",
    "        arr.append(list(map(int, input().rstrip().split())))\n",
    "\n",
    "    k = int(input())\n",
    "        \n",
    "    arr = sorted(arr, key= lambda x: x[k])\n",
    "    \n",
    "    for athlete in arr:\n",
    "        print(' '.join(map(str, athlete)))\n"
   ]
  },
  {
   "cell_type": "markdown",
   "id": "7798004e",
   "metadata": {},
   "source": [
    "#### ginortS"
   ]
  },
  {
   "cell_type": "code",
   "execution_count": null,
   "id": "af026ecc",
   "metadata": {},
   "outputs": [],
   "source": [
    "s = list(input())\n",
    "\n",
    "lower, upper, odd, even = [], [], [], []\n",
    "\n",
    "for char in s:\n",
    "    if char.islower():\n",
    "        lower.append(char)\n",
    "    elif char.isupper():\n",
    "        upper.append(char)\n",
    "    elif char.isdigit():\n",
    "        if int(char) % 2 == 0:\n",
    "            even.append(char)\n",
    "        else:\n",
    "            odd.append(char)\n",
    "\n",
    "print(''.join(sorted(lower) + sorted(upper) + sorted(odd) + sorted(even)))\n"
   ]
  },
  {
   "cell_type": "markdown",
   "id": "486c4da4",
   "metadata": {},
   "source": [
    "### Python Functionals"
   ]
  },
  {
   "cell_type": "code",
   "execution_count": null,
   "id": "bd198ac4",
   "metadata": {},
   "outputs": [],
   "source": [
    "cube = lambda x: x**3 # complete the lambda function \n",
    "\n",
    "def fibonacci(n):\n",
    "    # return a list of fibonacci numbers\n",
    "    f = [0, 1]\n",
    "    \n",
    "    for i in range(n-2):\n",
    "        f.append(f[-2]+ f[-1])\n",
    "    \n",
    "    return f[:n]"
   ]
  },
  {
   "cell_type": "markdown",
   "id": "d2d4d56a",
   "metadata": {},
   "source": [
    "### Regex and Parsing challenges"
   ]
  },
  {
   "cell_type": "markdown",
   "id": "2a08abf9",
   "metadata": {},
   "source": [
    "#### Detect Floating Point Number"
   ]
  },
  {
   "cell_type": "code",
   "execution_count": null,
   "id": "7349aafd",
   "metadata": {},
   "outputs": [],
   "source": [
    "import re\n",
    "\n",
    "T = int(input())\n",
    "\n",
    "for _ in range(T):\n",
    "    s = input()\n",
    "    # Does the string start with one of [+-]?\n",
    "    # Does it have 0 or more \\d?\n",
    "    # Does a [.]followed by 0 or more \\d follow?\n",
    "    x = bool(re.match('^[+-]?\\d*[.]\\d*$', s))\n",
    "    print(x)"
   ]
  },
  {
   "cell_type": "markdown",
   "id": "c1a72cb4",
   "metadata": {},
   "source": [
    "#### Re.split()"
   ]
  },
  {
   "cell_type": "code",
   "execution_count": null,
   "id": "4544312d",
   "metadata": {},
   "outputs": [],
   "source": [
    "regex_pattern = r\"\"\t# Do not delete 'r'.\n",
    "\n",
    "import re\n",
    "print(\"\\n\".join(re.split(regex_pattern, input())))"
   ]
  },
  {
   "cell_type": "markdown",
   "id": "aa8181e8",
   "metadata": {},
   "source": [
    "#### Re.findall() & Re.finditer()"
   ]
  },
  {
   "cell_type": "code",
   "execution_count": null,
   "id": "1ccac60f",
   "metadata": {},
   "outputs": [],
   "source": [
    "import re\n",
    "\n",
    "# Enter your code here. Read input from STDIN. Print output to STDOUT\n",
    "\n",
    "s = input()\n",
    "# print(list(map(lambda x: x.group()) \n",
    "matches = re.findall(r'(?<=[QWRTYPSDFGHJKLZXCVBNMqwrtypsdfghjklzxcvbnm])([AEIOUaeiou]{2,})(?=[QWRTYPSDFGHJKLZXCVBNMqwrtypsdfghjklzxcvbnm])', s)\n",
    "\n",
    "if matches:\n",
    "    for x in matches:\n",
    "        print(x)\n",
    "else:\n",
    "    print('-1')"
   ]
  },
  {
   "cell_type": "markdown",
   "id": "1d7d0a0b",
   "metadata": {},
   "source": [
    "#### Re.start() & Re.end()"
   ]
  },
  {
   "cell_type": "code",
   "execution_count": null,
   "id": "c24fd9f7",
   "metadata": {},
   "outputs": [],
   "source": [
    "import re\n",
    "\n",
    "s = input()\n",
    "k = input()\n",
    "\n",
    "matches = list(re.finditer(rf'(?={k})', s))\n",
    "\n",
    "if matches:\n",
    "    res = [print((m.start(), m.end()+len(k)-1)) for m in matches]\n",
    "else:\n",
    "    print((-1, -1))"
   ]
  },
  {
   "cell_type": "markdown",
   "id": "c9d30cd6",
   "metadata": {},
   "source": [
    "#### Regex Substitution"
   ]
  },
  {
   "cell_type": "code",
   "execution_count": null,
   "id": "5bdd5725",
   "metadata": {},
   "outputs": [],
   "source": [
    "import re\n",
    "\n",
    "N = int(input())\n",
    "\n",
    "for _ in range(N):\n",
    "    line = input()\n",
    "    new_line = re.sub(\"(?<= )(\\|\\|)(?= )\", \"or\", line) \n",
    "    print(re.sub(\"(?<= )(&&)(?= )\", \"and\", new_line))"
   ]
  },
  {
   "cell_type": "markdown",
   "id": "a205d417",
   "metadata": {},
   "source": [
    "#### Validating Roman Numerals"
   ]
  },
  {
   "cell_type": "code",
   "execution_count": null,
   "id": "fc746773",
   "metadata": {},
   "outputs": [],
   "source": []
  },
  {
   "cell_type": "markdown",
   "id": "1385944b",
   "metadata": {},
   "source": [
    "#### Validating phone numbers"
   ]
  },
  {
   "cell_type": "code",
   "execution_count": null,
   "id": "d6823239",
   "metadata": {},
   "outputs": [],
   "source": [
    "n = int(input())\n",
    "starters = ['7', '8', '9']\n",
    "\n",
    "for _ in range(n):\n",
    "    number = input()\n",
    "    \n",
    "    if number[0] in starters and number.isdigit() and len(number)==10:\n",
    "        print(\"YES\")\n",
    "    else:\n",
    "        print(\"NO\")"
   ]
  },
  {
   "cell_type": "markdown",
   "id": "bcc454bb",
   "metadata": {},
   "source": [
    "#### Validating and Parsing Email Addresses"
   ]
  },
  {
   "cell_type": "code",
   "execution_count": null,
   "id": "3ae33869",
   "metadata": {},
   "outputs": [],
   "source": [
    "import re\n",
    "\n",
    "pattern = r\"<[a-z][a-zA-Z0-9\\-\\.\\_]+\\@[a-zA-Z]+\\.[a-zA-Z]{1,3}>\"\n",
    "for _ in range(int(input())):\n",
    "    username, mail_extension = list(map(str, input().split()))\n",
    "    if bool(re.search(pattern, mail_extension)):\n",
    "        print(username, mail_extension)"
   ]
  },
  {
   "cell_type": "markdown",
   "id": "3e86c635",
   "metadata": {},
   "source": [
    "#### Hex Color Code"
   ]
  },
  {
   "cell_type": "code",
   "execution_count": null,
   "id": "ade556d6",
   "metadata": {},
   "outputs": [],
   "source": [
    "import re\n",
    "\n",
    "n = int(input())\n",
    "pattern = re.compile(r'#[0-9abcdef]{3,6}(?=[^\\s])', re.I)\n",
    "for _ in range(n):\n",
    "    hx = input()\n",
    "    for i in pattern.findall(hx):\n",
    "        print(i)"
   ]
  },
  {
   "cell_type": "markdown",
   "id": "9197e75e",
   "metadata": {},
   "source": [
    "#### HTML Parser - Part 1"
   ]
  },
  {
   "cell_type": "code",
   "execution_count": null,
   "id": "e0bcf31d",
   "metadata": {},
   "outputs": [],
   "source": [
    "from html.parser import HTMLParser\n",
    "\n",
    "class MyHTMLParser(HTMLParser):\n",
    "    def handle_starttag(self, tag, attrs):\n",
    "        print(f\"Start : {tag}\")\n",
    "        for name,value in attrs:\n",
    "            print(f\"-> {name} > {value}\")\n",
    "\n",
    "    def handle_startendtag(self, tag, attrs):\n",
    "        print(f\"Empty : {tag}\")\n",
    "        for name,value in attrs:\n",
    "            print(f\"-> {name} > {value}\")\n",
    "\n",
    "    def handle_endtag(self, tag):\n",
    "        print(f\"End   : {tag}\")\n",
    "\n",
    "\n",
    "parser = MyHTMLParser()\n",
    "for _ in range(int(input())):\n",
    "    parser.feed(input())\n",
    "parser.close()"
   ]
  },
  {
   "cell_type": "markdown",
   "id": "77ed81b9",
   "metadata": {},
   "source": [
    "#### HTML Parser - Part 2"
   ]
  },
  {
   "cell_type": "code",
   "execution_count": null,
   "id": "d027c6b5",
   "metadata": {},
   "outputs": [],
   "source": [
    "from html.parser import HTMLParser\n",
    "\n",
    "class MyHTMLParser(HTMLParser):\n",
    "    def handle_comment(self, data):\n",
    "        if data != '\\n':\n",
    "            if \"\\n\" in data:\n",
    "                print(\">>> Multi-line Comment\")\n",
    "                print(data)\n",
    "            else:\n",
    "                print(\">>> Single-line Comment\")\n",
    "                print(data)\n",
    "    def handle_data(self, data):\n",
    "        if not data == '\\n':\n",
    "            print(f\">>> Data\")\n",
    "            print(data)\n",
    "            \n",
    "            \n",
    "html = \"\"       \n",
    "for i in range(int(input())):\n",
    "    html += input().rstrip()\n",
    "    html += '\\n'\n",
    "    \n",
    "parser = MyHTMLParser()\n",
    "parser.feed(html)\n",
    "parser.close()"
   ]
  },
  {
   "cell_type": "markdown",
   "id": "14d837f9",
   "metadata": {},
   "source": [
    "#### Detect HTML Tags, Attributes and Attribute Values"
   ]
  },
  {
   "cell_type": "code",
   "execution_count": null,
   "id": "de06df2e",
   "metadata": {},
   "outputs": [],
   "source": [
    "from html.parser import HTMLParser\n",
    "class MyHtmlParser(HTMLParser):\n",
    "    def handle_starttag(self, tag, attrs):\n",
    "        print(tag)\n",
    "        for name, value in attrs:\n",
    "            print(\"->\", name, \">\", value)\n",
    "\n",
    "\n",
    "parser = MyHtmlParser()\n",
    "for _ in range(int(input())):\n",
    "    parser.feed(input())"
   ]
  },
  {
   "cell_type": "markdown",
   "id": "1a5a27bc",
   "metadata": {},
   "source": [
    "#### Validating UID"
   ]
  },
  {
   "cell_type": "code",
   "execution_count": null,
   "id": "fc15a459",
   "metadata": {},
   "outputs": [],
   "source": [
    "T = int(input())\n",
    "\n",
    "for i in range(T):\n",
    "    uid = input()\n",
    "\n",
    "    if len([i for i in uid if i.isupper()]) >= 2 and len([i for i in uid if i.isnumeric()]) >= 3 and len(set(uid)) == 10 and len(uid) == 10:\n",
    "        print(\"Valid\")\n",
    "    else:\n",
    "        print(\"Invalid\")"
   ]
  },
  {
   "cell_type": "markdown",
   "id": "4d1047fc",
   "metadata": {},
   "source": [
    "#### Validating Credit Card Numbers"
   ]
  },
  {
   "cell_type": "code",
   "execution_count": null,
   "id": "08bb81b3",
   "metadata": {},
   "outputs": [],
   "source": []
  },
  {
   "cell_type": "markdown",
   "id": "0f1c616e",
   "metadata": {},
   "source": [
    "#### Validating Postal Codes"
   ]
  },
  {
   "cell_type": "code",
   "execution_count": null,
   "id": "625fc72b",
   "metadata": {},
   "outputs": [],
   "source": []
  },
  {
   "cell_type": "markdown",
   "id": "603819f9",
   "metadata": {},
   "source": [
    "#### Matrix Script"
   ]
  },
  {
   "cell_type": "code",
   "execution_count": null,
   "id": "b5e6ab82",
   "metadata": {},
   "outputs": [],
   "source": []
  },
  {
   "cell_type": "markdown",
   "id": "f0d0f2bc",
   "metadata": {},
   "source": [
    "#### Group(), Groups() & Groupdict()"
   ]
  },
  {
   "cell_type": "code",
   "execution_count": null,
   "id": "dd3a254a",
   "metadata": {},
   "outputs": [],
   "source": []
  },
  {
   "cell_type": "markdown",
   "id": "9721226d",
   "metadata": {},
   "source": [
    "### XML"
   ]
  },
  {
   "cell_type": "markdown",
   "id": "446e96c2",
   "metadata": {},
   "source": [
    "####  XML 1 - Find the Score"
   ]
  },
  {
   "cell_type": "code",
   "execution_count": null,
   "id": "5bbdd837",
   "metadata": {},
   "outputs": [],
   "source": [
    "import sys\n",
    "import xml.etree.ElementTree as etree\n",
    "\n",
    "def get_attr_number(node):\n",
    "    n = 0\n",
    "    for child in node.iter():\n",
    "        n += len(child.attrib)\n",
    "    return n\n",
    "\n",
    "\n",
    "if __name__ == '__main__':\n",
    "    sys.stdin.readline()\n",
    "    xml = sys.stdin.read()\n",
    "    tree = etree.ElementTree(etree.fromstring(xml))\n",
    "    root = tree.getroot()\n",
    "    print(get_attr_number(root))"
   ]
  },
  {
   "cell_type": "markdown",
   "id": "3899a169",
   "metadata": {},
   "source": [
    "#### XML 2 - Find the Maximum Depth"
   ]
  },
  {
   "cell_type": "code",
   "execution_count": null,
   "id": "91af1c63",
   "metadata": {},
   "outputs": [],
   "source": [
    "import xml.etree.ElementTree as etree\n",
    "\n",
    "maxdepth = 0\n",
    "\n",
    "def depth(elem, level): \n",
    "    global maxdepth\n",
    "    if (level == maxdepth):\n",
    "        maxdepth += 1\n",
    "   # recursive call to function to get the depth\n",
    "    for child in elem:\n",
    "        depth(child, level + 1) \n",
    "        \n",
    "if __name__ == '__main__':\n",
    "    n = int(input())\n",
    "    xml = \"\"\n",
    "    for i in range(n):\n",
    "        xml =  xml + input() + \"\\n\"\n",
    "    tree = etree.ElementTree(etree.fromstring(xml))\n",
    "    depth(tree.getroot(), -1)\n",
    "    print(maxdepth)"
   ]
  },
  {
   "cell_type": "markdown",
   "id": "ff728513",
   "metadata": {},
   "source": [
    "### Closures and Decorations"
   ]
  },
  {
   "cell_type": "markdown",
   "id": "bd639a17",
   "metadata": {},
   "source": [
    "#### Standardize Mobile Number Using Decorators"
   ]
  },
  {
   "cell_type": "code",
   "execution_count": null,
   "id": "628f9287",
   "metadata": {},
   "outputs": [],
   "source": [
    "def wrapper(f):\n",
    "    def fun(l):\n",
    "        res = []\n",
    "        for number in l:\n",
    "            if number.startswith('0'):\n",
    "                number = '91' + number[1:]\n",
    "            elif len(number) == 10:\n",
    "                number = '91' + number\n",
    "            elif number.startswith('+'):\n",
    "                number = number[1:]\n",
    "            res.append(int(number))\n",
    "            \n",
    "        res = sorted(res)\n",
    "        res = [str(num) for num in res]\n",
    "        [print('+' + number[:2] + ' ' + number[2:7] + ' ' + number[7:]) for number in res]         \n",
    "    \n",
    "    return fun\n",
    "\n",
    "@wrapper\n",
    "def sort_phone(l):\n",
    "    print(*sorted(l), sep='\\n')\n",
    "\n",
    "if __name__ == '__main__':\n",
    "    l = [input() for _ in range(int(input()))]\n",
    "    sort_phone(l) \n",
    "\n",
    "\n"
   ]
  },
  {
   "cell_type": "markdown",
   "id": "5a7acf85",
   "metadata": {},
   "source": [
    "#### Decorators 2 - Name Directory"
   ]
  },
  {
   "cell_type": "code",
   "execution_count": null,
   "id": "d45d5a91",
   "metadata": {},
   "outputs": [],
   "source": [
    "import operator\n",
    "\n",
    "def person_lister(f):\n",
    "    def inner(people):\n",
    "        people = sorted(people, key=lambda x: int(x[2]))\n",
    "        return map(f, people)\n",
    "    return inner\n",
    "\n",
    "@person_lister\n",
    "def name_format(person):\n",
    "    return (\"Mr. \" if person[3] == \"M\" else \"Ms. \") + person[0] + \" \" + person[1]\n",
    "\n",
    "if __name__ == '__main__':\n",
    "    people = [input().split() for i in range(int(input()))]\n",
    "    print(*name_format(people), sep='\\n')"
   ]
  },
  {
   "cell_type": "markdown",
   "id": "c6877139",
   "metadata": {},
   "source": [
    "### NumPy"
   ]
  },
  {
   "cell_type": "markdown",
   "id": "abc96f8b",
   "metadata": {},
   "source": [
    "#### Arrays"
   ]
  },
  {
   "cell_type": "code",
   "execution_count": null,
   "id": "f0a75f49",
   "metadata": {},
   "outputs": [],
   "source": [
    "import numpy\n",
    "\n",
    "def arrays(arr):\n",
    "    # complete this function\n",
    "    # use numpy.array\n",
    "    return numpy.flip(numpy.array(arr, float))\n",
    "\n",
    "arr = input().strip().split(' ')"
   ]
  },
  {
   "cell_type": "markdown",
   "id": "feabb338",
   "metadata": {},
   "source": [
    "#### Shape and Reshape"
   ]
  },
  {
   "cell_type": "code",
   "execution_count": null,
   "id": "cffca077",
   "metadata": {},
   "outputs": [],
   "source": [
    "import numpy as np\n",
    "\n",
    "print(np.reshape(np.array(input().split(), int), (3, 3)))"
   ]
  },
  {
   "cell_type": "markdown",
   "id": "6c723a17",
   "metadata": {},
   "source": [
    "#### Transpose and Flatten"
   ]
  },
  {
   "cell_type": "code",
   "execution_count": null,
   "id": "4d1f4752",
   "metadata": {},
   "outputs": [],
   "source": [
    "import numpy as np\n",
    "n, m = map(int, input().split())\n",
    "\n",
    "arr = []\n",
    "for _ in range(n):\n",
    "    arr.extend(input().split())\n",
    "\n",
    "n_arr = np.array(arr, int).reshape((n, m))\n",
    "print(n_arr.T)\n",
    "print(n_arr.flatten())"
   ]
  },
  {
   "cell_type": "markdown",
   "id": "be6f0804",
   "metadata": {},
   "source": [
    "#### Concatenate"
   ]
  },
  {
   "cell_type": "code",
   "execution_count": null,
   "id": "007d29eb",
   "metadata": {},
   "outputs": [],
   "source": [
    "import numpy as np\n",
    "\n",
    "n, m, p = map(int, input().split())\n",
    "\n",
    "n_arr = []\n",
    "for _ in range(n):\n",
    "    n_arr.append(input().split())\n",
    "\n",
    "m_arr = []\n",
    "for _ in range(m):\n",
    "    m_arr.append(input().split())\n",
    "\n",
    "r_arr = np.concatenate((np.array(n_arr, int), np.array(m_arr, int)), axis=0)\n",
    "print(r_arr)"
   ]
  },
  {
   "cell_type": "markdown",
   "id": "14c6d4c4",
   "metadata": {},
   "source": [
    "#### Zeros and Ones"
   ]
  },
  {
   "cell_type": "code",
   "execution_count": null,
   "id": "c25ce566",
   "metadata": {},
   "outputs": [],
   "source": [
    "import numpy as np\n",
    "\n",
    "shape = tuple(map(int, input().split()))\n",
    "\n",
    "print(np.zeros(shape, dtype=np.int))\n",
    "print(np.ones(shape, dtype=np.int))"
   ]
  },
  {
   "cell_type": "markdown",
   "id": "fa793e4a",
   "metadata": {},
   "source": [
    "#### Eye and Identity"
   ]
  },
  {
   "cell_type": "code",
   "execution_count": null,
   "id": "e4194182",
   "metadata": {},
   "outputs": [],
   "source": [
    "import numpy as np\n",
    "np.set_printoptions(legacy='1.13')\n",
    "\n",
    "n, m = map(int, input().split())\n",
    "\n",
    "print(np.eye(n, m))"
   ]
  },
  {
   "cell_type": "markdown",
   "id": "17059be9",
   "metadata": {},
   "source": [
    "#### Array Mathematics"
   ]
  },
  {
   "cell_type": "code",
   "execution_count": null,
   "id": "6f7c95bd",
   "metadata": {},
   "outputs": [],
   "source": [
    "import numpy as np\n",
    "\n",
    "\n",
    "n, m = map(int, input().split())\n",
    "\n",
    "A, B = [], []\n",
    "for _ in range(n):\n",
    "    A.append(list(map(int, input().split())))\n",
    "\n",
    "for _ in range(n):\n",
    "    B.append(list(map(int, input().split())))\n",
    "\n",
    "A = np.array(A)\n",
    "B = np.array(B)\n",
    "\n",
    "print(A + B)\n",
    "print(A - B)\n",
    "print(A * B)\n",
    "print(A // B)\n",
    "print(A % B)\n",
    "print(A ** B)"
   ]
  },
  {
   "cell_type": "markdown",
   "id": "3a9d99a9",
   "metadata": {},
   "source": [
    "#### Floor, Ceil and Rint"
   ]
  },
  {
   "cell_type": "code",
   "execution_count": null,
   "id": "ec0d1843",
   "metadata": {},
   "outputs": [],
   "source": [
    "import numpy as np\n",
    "np.set_printoptions(legacy='1.13')\n",
    "\n",
    "A = np.array(list(map(float, input().split())))\n",
    "\n",
    "print(np.floor(A))\n",
    "print(np.ceil(A))\n",
    "print(np.rint(A))"
   ]
  },
  {
   "cell_type": "markdown",
   "id": "787161f7",
   "metadata": {},
   "source": [
    "#### Sum and Prod"
   ]
  },
  {
   "cell_type": "code",
   "execution_count": null,
   "id": "2a412400",
   "metadata": {},
   "outputs": [],
   "source": [
    "import numpy as np\n",
    "\n",
    "n, m = map(int, input().split())\n",
    "\n",
    "arr = []\n",
    "for _ in range(n):\n",
    "    arr.append(list(map(int, input().split())))\n",
    "\n",
    "print(np.prod(np.sum(np.array(arr), axis=0)))"
   ]
  },
  {
   "cell_type": "markdown",
   "id": "dee875c0",
   "metadata": {},
   "source": [
    "#### Min and Max"
   ]
  },
  {
   "cell_type": "code",
   "execution_count": null,
   "id": "8898ddcf",
   "metadata": {},
   "outputs": [],
   "source": [
    "import numpy as np\n",
    "\n",
    "n, m = map(int, input().split())\n",
    "\n",
    "arr = []\n",
    "for _  in range(n):\n",
    "    arr.append(list(map(int, input().split())))\n",
    "\n",
    "print(np.max(np.min(np.array(arr), axis=1)))"
   ]
  },
  {
   "cell_type": "markdown",
   "id": "19548981",
   "metadata": {},
   "source": [
    "#### Mean, Var, and Std"
   ]
  },
  {
   "cell_type": "code",
   "execution_count": null,
   "id": "6988bf6b",
   "metadata": {},
   "outputs": [],
   "source": [
    "import numpy as np\n",
    "\n",
    "n, m = map(int, input().split())\n",
    "\n",
    "arr = []\n",
    "for _ in range(n):\n",
    "    arr.append(list(map(int, input().split())))\n",
    "\n",
    "\n",
    "n_arr = np.array(arr)\n",
    "\n",
    "print(np.mean(n_arr, axis=1))\n",
    "print(np.var(n_arr, axis=0))\n",
    "print(np.std(n_arr, axis=None))"
   ]
  },
  {
   "cell_type": "markdown",
   "id": "1caaf738",
   "metadata": {},
   "source": [
    "#### Dot and Cross"
   ]
  },
  {
   "cell_type": "code",
   "execution_count": null,
   "id": "36f13734",
   "metadata": {},
   "outputs": [],
   "source": [
    "import numpy as np\n",
    "\n",
    "n = int(input())\n",
    "A, B  = [], []\n",
    "\n",
    "for _  in range(n):\n",
    "    A.append(list(map(int, input().split())))\n",
    "\n",
    "for _ in range(n):\n",
    "    B.append(list(map(int, input().split())))\n",
    "\n",
    "print(np.dot(np.array(A), np.array(B)))"
   ]
  },
  {
   "cell_type": "markdown",
   "id": "01bffbff",
   "metadata": {},
   "source": [
    "#### Inner and Outer"
   ]
  },
  {
   "cell_type": "code",
   "execution_count": null,
   "id": "a19fb448",
   "metadata": {},
   "outputs": [],
   "source": [
    "import numpy as np\n",
    "\n",
    "A = np.array(list(map(int, input().split())))\n",
    "B = np.array(list(map(int, input().split())))\n",
    "\n",
    "print(np.inner(A, B))\n",
    "print(np.outer(A, B))"
   ]
  },
  {
   "cell_type": "markdown",
   "id": "ac068bd2",
   "metadata": {},
   "source": [
    "#### Polynomials"
   ]
  },
  {
   "cell_type": "code",
   "execution_count": null,
   "id": "1046d851",
   "metadata": {},
   "outputs": [],
   "source": [
    "import numpy as np\n",
    "\n",
    "P = np.array(list(map(float, input().split())))\n",
    "x = int(input())\n",
    "\n",
    "print(np.polyval(P, x))"
   ]
  },
  {
   "cell_type": "markdown",
   "id": "cea46520",
   "metadata": {},
   "source": [
    "#### Linear Algebra"
   ]
  },
  {
   "cell_type": "code",
   "execution_count": null,
   "id": "2418264b",
   "metadata": {},
   "outputs": [],
   "source": [
    "import numpy as np\n",
    "\n",
    "n = int(input())\n",
    "\n",
    "A = []\n",
    "for _ in range(n):\n",
    "    A.append(list(map(float, input().split())))\n",
    "\n",
    "print(round(np.linalg.det(np.array(A)), 2))"
   ]
  },
  {
   "cell_type": "markdown",
   "id": "20e19bce",
   "metadata": {},
   "source": [
    "### Problem 2"
   ]
  },
  {
   "cell_type": "markdown",
   "id": "82f466b2",
   "metadata": {},
   "source": [
    "#### Birthday Cake Candles"
   ]
  },
  {
   "cell_type": "code",
   "execution_count": null,
   "id": "fddfbe82",
   "metadata": {},
   "outputs": [],
   "source": [
    "#!/bin/python3\n",
    "\n",
    "import math\n",
    "import os\n",
    "import random\n",
    "import re\n",
    "import sys\n",
    "\n",
    "#\n",
    "# Complete the 'birthdayCakeCandles' function below.\n",
    "#\n",
    "# The function is expected to return an INTEGER.\n",
    "# The function accepts INTEGER_ARRAY candles as parameter.\n",
    "#\n",
    "\n",
    "def birthdayCakeCandles(candles):\n",
    "    max_height = max(candles)\n",
    "    \n",
    "    return sum([1 for candle in candles if candle==max_height])\n",
    "\n",
    "if __name__ == '__main__':\n",
    "    fptr = open(os.environ['OUTPUT_PATH'], 'w')\n",
    "\n",
    "    candles_count = int(input().strip())\n",
    "\n",
    "    candles = list(map(int, input().rstrip().split()))\n",
    "\n",
    "    result = birthdayCakeCandles(candles)\n",
    "\n",
    "    fptr.write(str(result) + '\\n')\n",
    "\n",
    "    fptr.close()"
   ]
  },
  {
   "cell_type": "markdown",
   "id": "27ae9662",
   "metadata": {},
   "source": [
    "#### Kangaroo"
   ]
  },
  {
   "cell_type": "code",
   "execution_count": null,
   "id": "4af0f547",
   "metadata": {},
   "outputs": [],
   "source": [
    "#!/bin/python3\n",
    "\n",
    "import math\n",
    "import os\n",
    "import random\n",
    "import re\n",
    "import sys\n",
    "\n",
    "#\n",
    "# Complete the 'kangaroo' function below.\n",
    "#\n",
    "# The function is expected to return a STRING.\n",
    "# The function accepts following parameters:\n",
    "#  1. INTEGER x1\n",
    "#  2. INTEGER v1\n",
    "#  3. INTEGER x2\n",
    "#  4. INTEGER v2\n",
    "#\n",
    "\n",
    "def kangaroo(x1, v1, x2, v2):\n",
    "    if v1 == v2 and x1 != x2:\n",
    "        return 'NO'\n",
    "    \n",
    "    for i in range(10**8):\n",
    "        prev_dist = abs(x1-x2)\n",
    "        \n",
    "        if x1 == x2:\n",
    "            return 'YES'\n",
    "        \n",
    "        x1 += v1\n",
    "        x2 += v2\n",
    "        \n",
    "        new_dist = abs(x1-x2)\n",
    "        \n",
    "        if prev_dist < new_dist:\n",
    "            return 'NO'\n",
    "            \n",
    "if __name__ == '__main__':\n",
    "    fptr = open(os.environ['OUTPUT_PATH'], 'w')\n",
    "\n",
    "    first_multiple_input = input().rstrip().split()\n",
    "\n",
    "    x1 = int(first_multiple_input[0])\n",
    "\n",
    "    v1 = int(first_multiple_input[1])\n",
    "\n",
    "    x2 = int(first_multiple_input[2])\n",
    "\n",
    "    v2 = int(first_multiple_input[3])\n",
    "\n",
    "    result = kangaroo(x1, v1, x2, v2)\n",
    "\n",
    "    fptr.write(result + '\\n')\n",
    "\n",
    "    fptr.close()\n"
   ]
  },
  {
   "cell_type": "markdown",
   "id": "63808be5",
   "metadata": {},
   "source": [
    "#### Strange Advertising"
   ]
  },
  {
   "cell_type": "code",
   "execution_count": null,
   "id": "eb43fe30",
   "metadata": {},
   "outputs": [],
   "source": [
    "#!/bin/python3\n",
    "\n",
    "import math\n",
    "import os\n",
    "import random\n",
    "import re\n",
    "import sys\n",
    "\n",
    "#\n",
    "# Complete the 'viralAdvertising' function below.\n",
    "#\n",
    "# The function is expected to return an INTEGER.\n",
    "# The function accepts INTEGER n as parameter.\n",
    "#\n",
    "\n",
    "def viralAdvertising(n):\n",
    "    total_likes = 0\n",
    "    \n",
    "    share_factor = 3\n",
    "    like_factor = 2\n",
    "    \n",
    "    n_recipients = 5\n",
    "    \n",
    "    for i in range(n):\n",
    "        n_likes = math.floor(n_recipients/like_factor)\n",
    "        total_likes += n_likes\n",
    "        n_recipients = n_likes * share_factor\n",
    "    \n",
    "    return total_likes\n",
    "        \n",
    "        \n",
    "if __name__ == '__main__':\n",
    "    fptr = open(os.environ['OUTPUT_PATH'], 'w')\n",
    "\n",
    "    n = int(input().strip())\n",
    "\n",
    "    result = viralAdvertising(n)\n",
    "\n",
    "    fptr.write(str(result) + '\\n')\n",
    "\n",
    "    fptr.close()\n"
   ]
  },
  {
   "cell_type": "markdown",
   "id": "15e4abc2",
   "metadata": {},
   "source": [
    "#### Recursive Digit Sum"
   ]
  },
  {
   "cell_type": "code",
   "execution_count": null,
   "id": "2f8ce630",
   "metadata": {},
   "outputs": [],
   "source": [
    "#!/bin/python3\n",
    "\n",
    "import math\n",
    "import os\n",
    "import random\n",
    "import re\n",
    "import sys\n",
    "\n",
    "#\n",
    "# Complete the 'superDigit' function below.\n",
    "#\n",
    "# The function is expected to return an INTEGER.\n",
    "# The function accepts following parameters:\n",
    "#  1. STRING n\n",
    "#  2. INTEGER k\n",
    "#\n",
    "\n",
    "def superDigit(n, k):\n",
    "    single_sum = sum(map(int, list(n)))\n",
    "    \n",
    "    if len(str(single_sum * k)) == 1:\n",
    "        return single_sum * k\n",
    "    \n",
    "    else:\n",
    "        return superDigit(str(single_sum) * k, 1)\n",
    "\n",
    "  \n",
    "        \n",
    "if __name__ == '__main__':\n",
    "    fptr = open(os.environ['OUTPUT_PATH'], 'w')\n",
    "\n",
    "    first_multiple_input = input().rstrip().split()\n",
    "\n",
    "    n = first_multiple_input[0]\n",
    "\n",
    "    k = int(first_multiple_input[1])\n",
    "\n",
    "    result = superDigit(n, k)\n",
    "\n",
    "    fptr.write(str(result) + '\\n')\n",
    "\n",
    "    fptr.close()"
   ]
  },
  {
   "cell_type": "markdown",
   "id": "4bd44bba",
   "metadata": {},
   "source": [
    "#### Insertionsort 1"
   ]
  },
  {
   "cell_type": "code",
   "execution_count": null,
   "id": "86a9d256",
   "metadata": {},
   "outputs": [],
   "source": [
    "#!/bin/python3\n",
    "\n",
    "import math\n",
    "import os\n",
    "import random\n",
    "import re\n",
    "import sys\n",
    "\n",
    "#\n",
    "# Complete the 'insertionSort1' function below.\n",
    "#\n",
    "# The function accepts following parameters:\n",
    "#  1. INTEGER n\n",
    "#  2. INTEGER_ARRAY arr\n",
    "#\n",
    "\n",
    "def insertionSort1(n, arr):\n",
    "    x = arr[-1]\n",
    "    \n",
    "    for i in reversed(range(n-1)):\n",
    "        if arr[i] > x:\n",
    "            print(' '.join(map(str, arr[:i] + [arr[i]] + arr[i:-1])))\n",
    "        else:\n",
    "            print(' '.join(map(str, arr[:i+1] + [x] + arr[i+1:-1])))\n",
    "            return\n",
    "    \n",
    "    print(' '.join(map(str, [x] + arr[:-1])))\n",
    "        \n",
    "\n",
    "if __name__ == '__main__':\n",
    "    n = int(input().strip())\n",
    "\n",
    "    arr = list(map(int, input().rstrip().split()))\n",
    "\n",
    "    insertionSort1(n, arr)\n"
   ]
  },
  {
   "cell_type": "markdown",
   "id": "2d041907",
   "metadata": {},
   "source": [
    "#### Insertionsort 2"
   ]
  },
  {
   "cell_type": "code",
   "execution_count": null,
   "id": "5cb4aba7",
   "metadata": {},
   "outputs": [],
   "source": [
    "#!/bin/python3\n",
    "\n",
    "import math\n",
    "import os\n",
    "import random\n",
    "import re\n",
    "import sys\n",
    "\n",
    "#\n",
    "# Complete the 'insertionSort2' function below.\n",
    "#\n",
    "# The function accepts following parameters:\n",
    "#  1. INTEGER n\n",
    "#  2. INTEGER_ARRAY arr\n",
    "#\n",
    "\n",
    "def insertionSort2(n, arr):\n",
    "    \n",
    "    for i in range(1, n):\n",
    "        \n",
    "        for j in range(i+1):\n",
    "            if arr[i] < arr[j]:\n",
    "                arr[i], arr[j] = arr[j], arr[i]\n",
    "\n",
    "        print(' '.join(map(str, arr)))                \n",
    "                \n",
    "if __name__ == '__main__':\n",
    "    n = int(input().strip())\n",
    "\n",
    "    arr = list(map(int, input().rstrip().split()))\n",
    "\n",
    "    insertionSort2(n, arr)\n"
   ]
  }
 ],
 "metadata": {
  "kernelspec": {
   "display_name": "Python 3 (ipykernel)",
   "language": "python",
   "name": "python3"
  },
  "language_info": {
   "codemirror_mode": {
    "name": "ipython",
    "version": 3
   },
   "file_extension": ".py",
   "mimetype": "text/x-python",
   "name": "python",
   "nbconvert_exporter": "python",
   "pygments_lexer": "ipython3",
   "version": "3.9.7"
  }
 },
 "nbformat": 4,
 "nbformat_minor": 5
}
